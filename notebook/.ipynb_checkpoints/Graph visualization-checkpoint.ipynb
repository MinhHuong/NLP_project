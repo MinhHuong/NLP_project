{
 "cells": [
  {
   "cell_type": "markdown",
   "metadata": {},
   "source": [
    "# Examining the citation networks"
   ]
  },
  {
   "cell_type": "code",
   "execution_count": 16,
   "metadata": {},
   "outputs": [],
   "source": [
    "import numpy as np\n",
    "import igraph as ig"
   ]
  },
  {
   "cell_type": "code",
   "execution_count": 3,
   "metadata": {},
   "outputs": [],
   "source": [
    "path_data = '../data/' # path to the data"
   ]
  },
  {
   "cell_type": "code",
   "execution_count": 14,
   "metadata": {},
   "outputs": [],
   "source": [
    "training = np.genfromtxt(path_data + 'training_set.txt', dtype='int') # read training data as int (since it only has node's ID and label 0/1)"
   ]
  },
  {
   "cell_type": "code",
   "execution_count": 33,
   "metadata": {},
   "outputs": [],
   "source": [
    "def build_graph(nodes, edges):\n",
    "    '''\n",
    "    Build a graph using igraph library\n",
    "    \n",
    "    Parameters\n",
    "    ----------\n",
    "    nodes: a list of nodes\n",
    "    edges: a list of tuples (source, target)\n",
    "    \n",
    "    Returns\n",
    "    -------\n",
    "    a graph g\n",
    "    '''\n",
    "    g = ig.Graph(directed=False) # create an undirected graph\n",
    "    g.add_vertices(nodes) # add nodes\n",
    "    g.add_edges(edges) # add edges\n",
    "    \n",
    "    # TODO: add weights --> which metrics should we take into account ?\n",
    "    \n",
    "    return g"
   ]
  },
  {
   "cell_type": "code",
   "execution_count": 34,
   "metadata": {},
   "outputs": [],
   "source": [
    "nodes = ['hello','this','is','my','test']\n",
    "edges = [(0,1), (0,3), (1,4), (3,2), (4,3)]\n",
    "\n",
    "g = build_graph(nodes, edges)"
   ]
  },
  {
   "cell_type": "code",
   "execution_count": 35,
   "metadata": {},
   "outputs": [
    {
     "name": "stdout",
     "output_type": "stream",
     "text": [
      "IGRAPH UN-- 5 5 --\n",
      "+ attr: name (v)\n",
      "+ edges (vertex names):\n",
      "hello--this, hello--my, this--test, is--my, my--test\n"
     ]
    }
   ],
   "source": [
    "print(g)"
   ]
  },
  {
   "cell_type": "code",
   "execution_count": null,
   "metadata": {},
   "outputs": [],
   "source": []
  }
 ],
 "metadata": {
  "kernelspec": {
   "display_name": "Python 2",
   "language": "python",
   "name": "python2"
  },
  "language_info": {
   "codemirror_mode": {
    "name": "ipython",
    "version": 2
   },
   "file_extension": ".py",
   "mimetype": "text/x-python",
   "name": "python",
   "nbconvert_exporter": "python",
   "pygments_lexer": "ipython2",
   "version": "2.7.14"
  }
 },
 "nbformat": 4,
 "nbformat_minor": 2
}
